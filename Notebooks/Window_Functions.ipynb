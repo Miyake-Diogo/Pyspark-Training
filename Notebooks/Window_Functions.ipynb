{
 "cells": [
  {
   "cell_type": "code",
   "execution_count": 2,
   "id": "45ed9014",
   "metadata": {},
   "outputs": [],
   "source": [
    "import pyspark\n",
    "from pyspark.sql import SparkSession\n",
    "spark = SparkSession.builder \\\n",
    "    .master(\"local[*]\") \\\n",
    "    .appName(\"Window Functions\") \\\n",
    "    .config('spark.ui.port', '4050')\\\n",
    "    .getOrCreate()"
   ]
  },
  {
   "cell_type": "markdown",
   "id": "d0a2256d",
   "metadata": {},
   "source": [
    "# Window Functions\n",
    "\n",
    "\n",
    "As Window Functions do Spark operam em um grupo de linhas (como quadro, partição) e retornam um único valor para cada linha de entrada. O Spark SQL oferece suporte a três tipos de funções de janela:\n",
    "\n",
    "1. ranking functions\n",
    "2. analytic functions\n",
    "3. aggregate functions"
   ]
  },
  {
   "cell_type": "markdown",
   "id": "d7edaa19",
   "metadata": {},
   "source": [
    "| USO E SINTAXE - WINDOW FUNCTION | WINDOW FUNCTION DESCRIÇÃO| \n",
    "|---|----| \n",
    "| row_number(): Column | Retorna um número sequencial começando em 1 dentro de uma janela de partição.\n",
    "| rank(): Column | Retorna a classificação de linhas em uma partição de janela, com lacunas.\n",
    "| percent_rank(): Column | Retorna a classificação de percentil de linhas em uma partição de janela.\n",
    "| dense_rank(): Column | Retorna a classificação de linhas dentro de uma partição de janela sem quaisquer lacunas. Onde, como Rank () retorna a classificação com lacunas.\n",
    "| ntile(n: Int): Column | Retorna o id do ntile em uma partição de janela\n",
    "| cume_dist(): Column | Retorna a distribuição cumulativa de valores em uma partição de janela\n",
    "| lag(e: Column, offset: Int): Columnlag(columnName: String, offset: Int): Columnlag(columnName: String, offset: Int, defaultValue: Any): Column | Retorna o valor que é `offset` linhas antes da linha atual, e` null` se houver menos que `offset` linhas antes da linha atual.\n",
    "| lead(columnName: String, offset: Int): Columnlead(columnName: String, offset: Int): Columnlead(columnName: String, offset: Int, defaultValue: Any): Column | Retorna o valor que é `offset` linhas após a linha atual, e` null` se houver menos de `offset` linhas após a linha atual."
   ]
  },
  {
   "cell_type": "markdown",
   "id": "d047df1b",
   "metadata": {},
   "source": [
    "## Criação do Dataframe"
   ]
  },
  {
   "cell_type": "code",
   "execution_count": 10,
   "id": "af393b18",
   "metadata": {},
   "outputs": [
    {
     "name": "stdout",
     "output_type": "stream",
     "text": [
      "+-------------+----------+------+\n",
      "|employee_name|department|salary|\n",
      "+-------------+----------+------+\n",
      "|        James|     Sales|  3000|\n",
      "|      Michael|     Sales|  4600|\n",
      "|       Robert|     Sales|  4100|\n",
      "|        Maria|   Finance|  3000|\n",
      "|        James|     Sales|  3000|\n",
      "|        Scott|   Finance|  3300|\n",
      "|          Jen|   Finance|  3900|\n",
      "|         Jeff| Marketing|  3000|\n",
      "|        Kumar| Marketing|  2000|\n",
      "|         Saif|     Sales|  4100|\n",
      "+-------------+----------+------+\n",
      "\n"
     ]
    }
   ],
   "source": [
    "dados = [[\"James\", \"Sales\", 3000],\n",
    "    [\"Michael\", \"Sales\", 4600],\n",
    "    [\"Robert\", \"Sales\", 4100],\n",
    "    [\"Maria\", \"Finance\", 3000],\n",
    "    [\"James\", \"Sales\", 3000],\n",
    "    [\"Scott\", \"Finance\", 3300],\n",
    "    [\"Jen\", \"Finance\", 3900],\n",
    "    [\"Jeff\", \"Marketing\", 3000],\n",
    "    [\"Kumar\", \"Marketing\", 2000],\n",
    "    [\"Saif\", \"Sales\", 4100]\n",
    "         ]\n",
    "colunas = [\"employee_name\", \"department\", \"salary\"]\n",
    "window_dataframe = spark.createDataFrame(dados, colunas)\n",
    "window_dataframe.show()"
   ]
  },
  {
   "cell_type": "markdown",
   "id": "ec3b916c",
   "metadata": {},
   "source": [
    "## Spark Window Ranking functions"
   ]
  },
  {
   "cell_type": "markdown",
   "id": "cc3b3898",
   "metadata": {},
   "source": [
    "### row_number Window Function\n",
    "row_number() window function is used to give the sequential row number starting from 1 to the result of each window partition."
   ]
  },
  {
   "cell_type": "code",
   "execution_count": 11,
   "id": "852a20b2",
   "metadata": {},
   "outputs": [
    {
     "name": "stdout",
     "output_type": "stream",
     "text": [
      "+-------------+----------+------+----------+\n",
      "|employee_name|department|salary|row_number|\n",
      "+-------------+----------+------+----------+\n",
      "|James        |Sales     |3000  |1         |\n",
      "|James        |Sales     |3000  |2         |\n",
      "|Robert       |Sales     |4100  |3         |\n",
      "|Saif         |Sales     |4100  |4         |\n",
      "|Michael      |Sales     |4600  |5         |\n",
      "|Maria        |Finance   |3000  |1         |\n",
      "|Scott        |Finance   |3300  |2         |\n",
      "|Jen          |Finance   |3900  |3         |\n",
      "|Kumar        |Marketing |2000  |1         |\n",
      "|Jeff         |Marketing |3000  |2         |\n",
      "+-------------+----------+------+----------+\n",
      "\n"
     ]
    }
   ],
   "source": [
    "from pyspark.sql.window import Window\n",
    "from pyspark.sql.functions import row_number\n",
    "windowSpec  = Window.partitionBy(\"department\").orderBy(\"salary\")\n",
    "\n",
    "window_dataframe.withColumn(\"row_number\",row_number().over(windowSpec)).show(truncate=False)"
   ]
  },
  {
   "cell_type": "markdown",
   "id": "2f86eae6",
   "metadata": {},
   "source": [
    "### rank Window Function\n",
    "rank() window function is used to provide a rank to the result within a window partition. \n",
    "This function leaves gaps in rank when there are ties."
   ]
  },
  {
   "cell_type": "code",
   "execution_count": 12,
   "id": "bf4e96a9",
   "metadata": {},
   "outputs": [
    {
     "name": "stdout",
     "output_type": "stream",
     "text": [
      "+-------------+----------+------+----+\n",
      "|employee_name|department|salary|rank|\n",
      "+-------------+----------+------+----+\n",
      "|        James|     Sales|  3000|   1|\n",
      "|        James|     Sales|  3000|   1|\n",
      "|       Robert|     Sales|  4100|   3|\n",
      "|         Saif|     Sales|  4100|   3|\n",
      "|      Michael|     Sales|  4600|   5|\n",
      "|        Maria|   Finance|  3000|   1|\n",
      "|        Scott|   Finance|  3300|   2|\n",
      "|          Jen|   Finance|  3900|   3|\n",
      "|        Kumar| Marketing|  2000|   1|\n",
      "|         Jeff| Marketing|  3000|   2|\n",
      "+-------------+----------+------+----+\n",
      "\n"
     ]
    }
   ],
   "source": [
    "from pyspark.sql.functions import rank\n",
    "window_dataframe.withColumn(\"rank\",rank().over(windowSpec)).show()"
   ]
  },
  {
   "cell_type": "markdown",
   "id": "b2bd1711",
   "metadata": {},
   "source": [
    "### dense_rank Window Function\n",
    "A função de janela dense_rank () é usada para obter o resultado com classificação de linhas dentro de uma partição de janela sem quaisquer lacunas. \n",
    "Isso é semelhante à diferença da função rank (), sendo que a função de classificação deixa lacunas na classificação quando há empates."
   ]
  },
  {
   "cell_type": "code",
   "execution_count": 13,
   "id": "88d0944a",
   "metadata": {},
   "outputs": [
    {
     "name": "stdout",
     "output_type": "stream",
     "text": [
      "+-------------+----------+------+----------+\n",
      "|employee_name|department|salary|dense_rank|\n",
      "+-------------+----------+------+----------+\n",
      "|        James|     Sales|  3000|         1|\n",
      "|        James|     Sales|  3000|         1|\n",
      "|       Robert|     Sales|  4100|         2|\n",
      "|         Saif|     Sales|  4100|         2|\n",
      "|      Michael|     Sales|  4600|         3|\n",
      "|        Maria|   Finance|  3000|         1|\n",
      "|        Scott|   Finance|  3300|         2|\n",
      "|          Jen|   Finance|  3900|         3|\n",
      "|        Kumar| Marketing|  2000|         1|\n",
      "|         Jeff| Marketing|  3000|         2|\n",
      "+-------------+----------+------+----------+\n",
      "\n"
     ]
    }
   ],
   "source": [
    "from pyspark.sql.functions import dense_rank\n",
    "window_dataframe.withColumn(\"dense_rank\",dense_rank().over(windowSpec)).show()"
   ]
  },
  {
   "cell_type": "markdown",
   "id": "6122bf3a",
   "metadata": {},
   "source": [
    "### percent_rank Window Function\n"
   ]
  },
  {
   "cell_type": "code",
   "execution_count": 14,
   "id": "c89443d7",
   "metadata": {
    "scrolled": true
   },
   "outputs": [
    {
     "name": "stdout",
     "output_type": "stream",
     "text": [
      "+-------------+----------+------+------------+\n",
      "|employee_name|department|salary|percent_rank|\n",
      "+-------------+----------+------+------------+\n",
      "|        James|     Sales|  3000|         0.0|\n",
      "|        James|     Sales|  3000|         0.0|\n",
      "|       Robert|     Sales|  4100|         0.5|\n",
      "|         Saif|     Sales|  4100|         0.5|\n",
      "|      Michael|     Sales|  4600|         1.0|\n",
      "|        Maria|   Finance|  3000|         0.0|\n",
      "|        Scott|   Finance|  3300|         0.5|\n",
      "|          Jen|   Finance|  3900|         1.0|\n",
      "|        Kumar| Marketing|  2000|         0.0|\n",
      "|         Jeff| Marketing|  3000|         1.0|\n",
      "+-------------+----------+------+------------+\n",
      "\n"
     ]
    }
   ],
   "source": [
    "from pyspark.sql.functions import percent_rank\n",
    "window_dataframe.withColumn(\"percent_rank\",percent_rank().over(windowSpec)).show()"
   ]
  },
  {
   "cell_type": "markdown",
   "id": "86c1c961",
   "metadata": {},
   "source": [
    "### ntile Window Function\n",
    "A função de janela ntile () retorna a classificação relativa das linhas de resultados dentro de uma partição de janela. No exemplo abaixo, usamos 2 como um argumento para ntile, portanto, ele retorna a classificação entre 2 valores (1 e 2)"
   ]
  },
  {
   "cell_type": "code",
   "execution_count": 15,
   "id": "4a0104c1",
   "metadata": {},
   "outputs": [
    {
     "name": "stdout",
     "output_type": "stream",
     "text": [
      "+-------------+----------+------+-----+\n",
      "|employee_name|department|salary|ntile|\n",
      "+-------------+----------+------+-----+\n",
      "|        James|     Sales|  3000|    1|\n",
      "|        James|     Sales|  3000|    1|\n",
      "|       Robert|     Sales|  4100|    1|\n",
      "|         Saif|     Sales|  4100|    2|\n",
      "|      Michael|     Sales|  4600|    2|\n",
      "|        Maria|   Finance|  3000|    1|\n",
      "|        Scott|   Finance|  3300|    1|\n",
      "|          Jen|   Finance|  3900|    2|\n",
      "|        Kumar| Marketing|  2000|    1|\n",
      "|         Jeff| Marketing|  3000|    2|\n",
      "+-------------+----------+------+-----+\n",
      "\n"
     ]
    }
   ],
   "source": [
    "from pyspark.sql.functions import ntile\n",
    "window_dataframe.withColumn(\"ntile\",ntile(2).over(windowSpec)).show()"
   ]
  },
  {
   "cell_type": "markdown",
   "id": "83d680f9",
   "metadata": {},
   "source": [
    "## PySpark Window Analytic functions"
   ]
  },
  {
   "cell_type": "markdown",
   "id": "04615eab",
   "metadata": {},
   "source": [
    "### cume_dist Window Function\n",
    "A função de janela cume_dist () é usada para obter a distribuição cumulativa de valores dentro de uma partição de janela."
   ]
  },
  {
   "cell_type": "code",
   "execution_count": 16,
   "id": "47c10b6e",
   "metadata": {},
   "outputs": [
    {
     "name": "stdout",
     "output_type": "stream",
     "text": [
      "+-------------+----------+------+------------------+\n",
      "|employee_name|department|salary|         cume_dist|\n",
      "+-------------+----------+------+------------------+\n",
      "|        James|     Sales|  3000|               0.4|\n",
      "|        James|     Sales|  3000|               0.4|\n",
      "|       Robert|     Sales|  4100|               0.8|\n",
      "|         Saif|     Sales|  4100|               0.8|\n",
      "|      Michael|     Sales|  4600|               1.0|\n",
      "|        Maria|   Finance|  3000|0.3333333333333333|\n",
      "|        Scott|   Finance|  3300|0.6666666666666666|\n",
      "|          Jen|   Finance|  3900|               1.0|\n",
      "|        Kumar| Marketing|  2000|               0.5|\n",
      "|         Jeff| Marketing|  3000|               1.0|\n",
      "+-------------+----------+------+------------------+\n",
      "\n"
     ]
    }
   ],
   "source": [
    "from pyspark.sql.functions import cume_dist    \n",
    "window_dataframe.withColumn(\"cume_dist\",cume_dist().over(windowSpec)).show()"
   ]
  },
  {
   "cell_type": "markdown",
   "id": "5bf7b0fd",
   "metadata": {},
   "source": [
    "### lag Window Function\n",
    "É o mesmo que a função LAG em SQL."
   ]
  },
  {
   "cell_type": "code",
   "execution_count": 17,
   "id": "31158217",
   "metadata": {},
   "outputs": [
    {
     "name": "stdout",
     "output_type": "stream",
     "text": [
      "+-------------+----------+------+----+\n",
      "|employee_name|department|salary| lag|\n",
      "+-------------+----------+------+----+\n",
      "|        James|     Sales|  3000|null|\n",
      "|        James|     Sales|  3000|null|\n",
      "|       Robert|     Sales|  4100|3000|\n",
      "|         Saif|     Sales|  4100|3000|\n",
      "|      Michael|     Sales|  4600|4100|\n",
      "|        Maria|   Finance|  3000|null|\n",
      "|        Scott|   Finance|  3300|null|\n",
      "|          Jen|   Finance|  3900|3000|\n",
      "|        Kumar| Marketing|  2000|null|\n",
      "|         Jeff| Marketing|  3000|null|\n",
      "+-------------+----------+------+----+\n",
      "\n"
     ]
    }
   ],
   "source": [
    "from pyspark.sql.functions import lag    \n",
    "window_dataframe.withColumn(\"lag\",lag(\"salary\",2).over(windowSpec)).show()"
   ]
  },
  {
   "cell_type": "markdown",
   "id": "08dac56a",
   "metadata": {},
   "source": [
    "### lead Window Function\n",
    "É o mesmo que a função LEAD em SQL."
   ]
  },
  {
   "cell_type": "code",
   "execution_count": 19,
   "id": "b1290bdb",
   "metadata": {},
   "outputs": [
    {
     "name": "stdout",
     "output_type": "stream",
     "text": [
      "+-------------+----------+------+----+\n",
      "|employee_name|department|salary|lead|\n",
      "+-------------+----------+------+----+\n",
      "|        James|     Sales|  3000|4100|\n",
      "|        James|     Sales|  3000|4100|\n",
      "|       Robert|     Sales|  4100|4600|\n",
      "|         Saif|     Sales|  4100|null|\n",
      "|      Michael|     Sales|  4600|null|\n",
      "|        Maria|   Finance|  3000|3900|\n",
      "|        Scott|   Finance|  3300|null|\n",
      "|          Jen|   Finance|  3900|null|\n",
      "|        Kumar| Marketing|  2000|null|\n",
      "|         Jeff| Marketing|  3000|null|\n",
      "+-------------+----------+------+----+\n",
      "\n"
     ]
    }
   ],
   "source": [
    "from pyspark.sql.functions import lead    \n",
    "window_dataframe.withColumn(\"lead\",lead(\"salary\",2).over(windowSpec)).show()"
   ]
  },
  {
   "cell_type": "markdown",
   "id": "f3c71150",
   "metadata": {},
   "source": [
    "## PySpark Window Aggregate Functions\n",
    "Nesta seção, explicarei como calcular sum, min, max para cada departamento usando as funções de janela PySpark SQL Aggregate e WindowSpec. \n",
    "Ao trabalhar com funções agregadas, não precisamos usar ordem por cláusula.  "
   ]
  },
  {
   "cell_type": "code",
   "execution_count": 20,
   "id": "b6483d20",
   "metadata": {},
   "outputs": [
    {
     "name": "stdout",
     "output_type": "stream",
     "text": [
      "+----------+------+-----+----+----+\n",
      "|department|   avg|  sum| min| max|\n",
      "+----------+------+-----+----+----+\n",
      "|     Sales|3760.0|18800|3000|4600|\n",
      "|   Finance|3400.0|10200|3000|3900|\n",
      "| Marketing|2500.0| 5000|2000|3000|\n",
      "+----------+------+-----+----+----+\n",
      "\n"
     ]
    }
   ],
   "source": [
    "windowSpecAgg  = Window.partitionBy(\"department\")\n",
    "from pyspark.sql.functions import col,avg,sum,min,max,row_number \n",
    "window_dataframe.withColumn(\"row\",row_number().over(windowSpec)) \\\n",
    "  .withColumn(\"avg\", avg(col(\"salary\")).over(windowSpecAgg)) \\\n",
    "  .withColumn(\"sum\", sum(col(\"salary\")).over(windowSpecAgg)) \\\n",
    "  .withColumn(\"min\", min(col(\"salary\")).over(windowSpecAgg)) \\\n",
    "  .withColumn(\"max\", max(col(\"salary\")).over(windowSpecAgg)) \\\n",
    "  .where(col(\"row\")==1).select(\"department\",\"avg\",\"sum\",\"min\",\"max\") \\\n",
    "  .show()"
   ]
  },
  {
   "cell_type": "markdown",
   "id": "68c577d3",
   "metadata": {},
   "source": [
    "# Referências\n",
    "\n",
    "1. [Scala Spark Window Functions Examples](https://sparkbyexamples.com/spark/spark-sql-window-functions/)\n",
    "2. [PySpark Window Functions Examples](https://sparkbyexamples.com/pyspark/pyspark-window-functions/)\n",
    "3. [SQL Window Functions - SQLite example](https://sqlite.org/windowfunctions.html)"
   ]
  }
 ],
 "metadata": {
  "kernelspec": {
   "display_name": "Python 3",
   "language": "python",
   "name": "python3"
  },
  "language_info": {
   "codemirror_mode": {
    "name": "ipython",
    "version": 3
   },
   "file_extension": ".py",
   "mimetype": "text/x-python",
   "name": "python",
   "nbconvert_exporter": "python",
   "pygments_lexer": "ipython3",
   "version": "3.9.4"
  }
 },
 "nbformat": 4,
 "nbformat_minor": 5
}
