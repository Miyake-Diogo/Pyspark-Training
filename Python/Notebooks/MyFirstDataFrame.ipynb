{
 "cells": [
  {
   "cell_type": "code",
   "execution_count": 1,
   "id": "exceptional-interference",
   "metadata": {},
   "outputs": [],
   "source": [
    "import pyspark\n",
    "from pyspark.sql.session import SparkSession\n",
    "spark = SparkSession.builder.appName(\"My First Dataframe\").getOrCreate()"
   ]
  },
  {
   "cell_type": "markdown",
   "id": "voluntary-peace",
   "metadata": {},
   "source": [
    "# Dataframe\n",
    "\n",
    "Dataframe é uma forma de dado tabular, como uma tabela e esta tabela ela pode vir de uma banco de dados, de um arquivo de texto, como csv, ou planilha... "
   ]
  },
  {
   "cell_type": "code",
   "execution_count": 2,
   "id": "stuck-devil",
   "metadata": {},
   "outputs": [],
   "source": [
    "meu_primeiro_dataframe = spark.read.csv(\"vgsales.csv\", header=True)"
   ]
  },
  {
   "cell_type": "code",
   "execution_count": 3,
   "id": "super-status",
   "metadata": {},
   "outputs": [
    {
     "name": "stdout",
     "output_type": "stream",
     "text": [
      "+----+--------------------+--------+----+------------+--------------------+--------+--------+--------+-----------+------------+\n",
      "|Rank|                Name|Platform|Year|       Genre|           Publisher|NA_Sales|EU_Sales|JP_Sales|Other_Sales|Global_Sales|\n",
      "+----+--------------------+--------+----+------------+--------------------+--------+--------+--------+-----------+------------+\n",
      "|   1|          Wii Sports|     Wii|2006|      Sports|            Nintendo|   41.49|   29.02|    3.77|       8.46|       82.74|\n",
      "|   2|   Super Mario Bros.|     NES|1985|    Platform|            Nintendo|   29.08|    3.58|    6.81|       0.77|       40.24|\n",
      "|   3|      Mario Kart Wii|     Wii|2008|      Racing|            Nintendo|   15.85|   12.88|    3.79|       3.31|       35.82|\n",
      "|   4|   Wii Sports Resort|     Wii|2009|      Sports|            Nintendo|   15.75|   11.01|    3.28|       2.96|          33|\n",
      "|   5|Pokemon Red/Pokem...|      GB|1996|Role-Playing|            Nintendo|   11.27|    8.89|   10.22|          1|       31.37|\n",
      "|   6|              Tetris|      GB|1989|      Puzzle|            Nintendo|    23.2|    2.26|    4.22|       0.58|       30.26|\n",
      "|   7|New Super Mario B...|      DS|2006|    Platform|            Nintendo|   11.38|    9.23|     6.5|        2.9|       30.01|\n",
      "|   8|            Wii Play|     Wii|2006|        Misc|            Nintendo|   14.03|     9.2|    2.93|       2.85|       29.02|\n",
      "|   9|New Super Mario B...|     Wii|2009|    Platform|            Nintendo|   14.59|    7.06|     4.7|       2.26|       28.62|\n",
      "|  10|           Duck Hunt|     NES|1984|     Shooter|            Nintendo|   26.93|    0.63|    0.28|       0.47|       28.31|\n",
      "|  11|          Nintendogs|      DS|2005|  Simulation|            Nintendo|    9.07|      11|    1.93|       2.75|       24.76|\n",
      "|  12|       Mario Kart DS|      DS|2005|      Racing|            Nintendo|    9.81|    7.57|    4.13|       1.92|       23.42|\n",
      "|  13|Pokemon Gold/Poke...|      GB|1999|Role-Playing|            Nintendo|       9|    6.18|     7.2|       0.71|        23.1|\n",
      "|  14|             Wii Fit|     Wii|2007|      Sports|            Nintendo|    8.94|    8.03|     3.6|       2.15|       22.72|\n",
      "|  15|        Wii Fit Plus|     Wii|2009|      Sports|            Nintendo|    9.09|    8.59|    2.53|       1.79|          22|\n",
      "|  16|  Kinect Adventures!|    X360|2010|        Misc|Microsoft Game St...|   14.97|    4.94|    0.24|       1.67|       21.82|\n",
      "|  17|  Grand Theft Auto V|     PS3|2013|      Action|Take-Two Interactive|    7.01|    9.27|    0.97|       4.14|        21.4|\n",
      "|  18|Grand Theft Auto:...|     PS2|2004|      Action|Take-Two Interactive|    9.43|     0.4|    0.41|      10.57|       20.81|\n",
      "|  19|   Super Mario World|    SNES|1990|    Platform|            Nintendo|   12.78|    3.75|    3.54|       0.55|       20.61|\n",
      "|  20|Brain Age: Train ...|      DS|2005|        Misc|            Nintendo|    4.75|    9.26|    4.16|       2.05|       20.22|\n",
      "+----+--------------------+--------+----+------------+--------------------+--------+--------+--------+-----------+------------+\n",
      "only showing top 20 rows\n",
      "\n"
     ]
    }
   ],
   "source": [
    "meu_primeiro_dataframe.show()"
   ]
  },
  {
   "cell_type": "code",
   "execution_count": 4,
   "id": "sapphire-embassy",
   "metadata": {},
   "outputs": [
    {
     "name": "stdout",
     "output_type": "stream",
     "text": [
      "root\n",
      " |-- Rank: string (nullable = true)\n",
      " |-- Name: string (nullable = true)\n",
      " |-- Platform: string (nullable = true)\n",
      " |-- Year: string (nullable = true)\n",
      " |-- Genre: string (nullable = true)\n",
      " |-- Publisher: string (nullable = true)\n",
      " |-- NA_Sales: string (nullable = true)\n",
      " |-- EU_Sales: string (nullable = true)\n",
      " |-- JP_Sales: string (nullable = true)\n",
      " |-- Other_Sales: string (nullable = true)\n",
      " |-- Global_Sales: string (nullable = true)\n",
      "\n"
     ]
    }
   ],
   "source": [
    "meu_primeiro_dataframe.printSchema()"
   ]
  },
  {
   "cell_type": "code",
   "execution_count": 44,
   "id": "meaning-clinton",
   "metadata": {},
   "outputs": [
    {
     "name": "stdout",
     "output_type": "stream",
     "text": [
      "root\n",
      " |-- Rank: integer (nullable = true)\n",
      " |-- Name: string (nullable = true)\n",
      " |-- Platform: string (nullable = true)\n",
      " |-- Year: string (nullable = true)\n",
      " |-- Genre: string (nullable = true)\n",
      " |-- Publisher: string (nullable = true)\n",
      " |-- NA_Sales: string (nullable = true)\n",
      " |-- EU_Sales: string (nullable = true)\n",
      " |-- JP_Sales: string (nullable = true)\n",
      " |-- Other_Sales: string (nullable = true)\n",
      " |-- Global_Sales: string (nullable = true)\n",
      "\n"
     ]
    }
   ],
   "source": [
    "# Importação e Conversão\n",
    "from pyspark.sql.types import DoubleType, IntegerType\n",
    "from pyspark.sql.functions import col, round\n",
    "meu_primeiro_dataframe_trannsformado = meu_primeiro_dataframe.withColumn(\"Rank\",col(\"Rank\").cast(IntegerType()))\n",
    "\n",
    "meu_primeiro_dataframe_trannsformado.printSchema()"
   ]
  },
  {
   "cell_type": "code",
   "execution_count": 6,
   "id": "enclosed-separate",
   "metadata": {},
   "outputs": [
    {
     "name": "stdout",
     "output_type": "stream",
     "text": [
      "root\n",
      " |-- Rank: integer (nullable = true)\n",
      " |-- Name: string (nullable = true)\n",
      " |-- Platform: string (nullable = true)\n",
      " |-- Year: string (nullable = true)\n",
      " |-- Genre: string (nullable = true)\n",
      " |-- Publisher: string (nullable = true)\n",
      " |-- NA_Sales: double (nullable = true)\n",
      " |-- EU_Sales: double (nullable = true)\n",
      " |-- JP_Sales: double (nullable = true)\n",
      " |-- Other_Sales: double (nullable = true)\n",
      " |-- Global_Sales: double (nullable = true)\n",
      "\n"
     ]
    }
   ],
   "source": [
    "# Mais Transformações\n",
    "meu_primeiro_dataframe_trannsformado = meu_primeiro_dataframe\\\n",
    "    .withColumn(\"Rank\",col(\"Rank\").cast(IntegerType()))\\\n",
    "    .withColumn(\"NA_Sales\",col(\"NA_Sales\").cast(DoubleType()))\\\n",
    "    .withColumn(\"EU_Sales\",col(\"EU_Sales\").cast(DoubleType()))\\\n",
    "    .withColumn(\"JP_Sales\",col(\"JP_Sales\").cast(DoubleType()))\\\n",
    "    .withColumn(\"Other_Sales\",col(\"Other_Sales\").cast(DoubleType()))\\\n",
    "    .withColumn(\"Global_Sales\",col(\"Global_Sales\").cast(DoubleType()))\n",
    "\n",
    "meu_primeiro_dataframe_trannsformado.printSchema()"
   ]
  },
  {
   "cell_type": "code",
   "execution_count": 7,
   "id": "familiar-barcelona",
   "metadata": {},
   "outputs": [
    {
     "name": "stdout",
     "output_type": "stream",
     "text": [
      "+-------+-----------------+--------------------+--------+------------------+--------+---------------+-------------------+------------------+-------------------+--------------------+------------------+\n",
      "|summary|             Rank|                Name|Platform|              Year|   Genre|      Publisher|           NA_Sales|          EU_Sales|           JP_Sales|         Other_Sales|      Global_Sales|\n",
      "+-------+-----------------+--------------------+--------+------------------+--------+---------------+-------------------+------------------+-------------------+--------------------+------------------+\n",
      "|  count|            16598|               16598|   16598|             16598|   16598|          16598|              16598|             16598|              16598|               16598|             16598|\n",
      "|   mean|8300.605253645017|              1942.0|  2600.0|2006.4064433147546|    null|           null|0.26466742981084057|0.1466520062658483|0.07778166044101108|0.048063019640913515|  0.53744065550074|\n",
      "| stddev|  4791.8539328964|                 NaN|     0.0| 5.828981114713253|    null|           null| 0.8166830292988798|0.5053512312869136| 0.3092906480822022| 0.18858840291271395|1.5550279355699066|\n",
      "|    min|                1|         '98 Koshien|    2600|              1980|  Action|10TACLE Studios|                0.0|               0.0|                0.0|                 0.0|              0.01|\n",
      "|    25%|             4151|              1942.0|  2600.0|            2003.0|    null|           null|                0.0|               0.0|                0.0|                 0.0|              0.06|\n",
      "|    50%|             8298|              1942.0|  2600.0|            2007.0|    null|           null|               0.08|              0.02|                0.0|                0.01|              0.17|\n",
      "|    75%|            12448|              1942.0|  2600.0|            2010.0|    null|           null|               0.24|              0.11|               0.04|                0.04|              0.47|\n",
      "|    max|            16600|¡Shin Chan Flipa ...|    XOne|               N/A|Strategy|   responDESIGN|              41.49|             29.02|              10.22|               10.57|             82.74|\n",
      "+-------+-----------------+--------------------+--------+------------------+--------+---------------+-------------------+------------------+-------------------+--------------------+------------------+\n",
      "\n"
     ]
    }
   ],
   "source": [
    "# Descrição\n",
    "meu_primeiro_dataframe_trannsformado.summary().show()"
   ]
  },
  {
   "cell_type": "raw",
   "id": "talented-teens",
   "metadata": {},
   "source": [
    "# Gravação do dataframe em json\n",
    "meu_primeiro_dataframe_trannsformado.write.json(\"vgsales_2.json\")"
   ]
  },
  {
   "cell_type": "markdown",
   "id": "swedish-function",
   "metadata": {},
   "source": [
    "# Manipulação de dados\n",
    "\n",
    "Para manipular os dados usaremos os métodos do PySpark, pois são mais rápidos que usar SQL além de ser mais intuitivo e ter menos retrabalho no código.  \n"
   ]
  },
  {
   "cell_type": "code",
   "execution_count": null,
   "id": "composite-projection",
   "metadata": {},
   "outputs": [],
   "source": [
    "vg_sales_df = meu_primeiro_dataframe_trannsformado"
   ]
  },
  {
   "cell_type": "code",
   "execution_count": 52,
   "id": "unauthorized-disease",
   "metadata": {},
   "outputs": [
    {
     "name": "stdout",
     "output_type": "stream",
     "text": [
      "+-------+--------+\n",
      "|summary|   Genre|\n",
      "+-------+--------+\n",
      "|  count|   16598|\n",
      "|   mean|    null|\n",
      "| stddev|    null|\n",
      "|    min|  Action|\n",
      "|    max|Strategy|\n",
      "+-------+--------+\n",
      "\n"
     ]
    }
   ],
   "source": [
    "vg_sales_df.describe(\"Genre\").show()"
   ]
  },
  {
   "cell_type": "code",
   "execution_count": 53,
   "id": "brave-house",
   "metadata": {},
   "outputs": [
    {
     "name": "stdout",
     "output_type": "stream",
     "text": [
      "+-------+------------------+\n",
      "|summary|      Global_Sales|\n",
      "+-------+------------------+\n",
      "|  count|             16598|\n",
      "|   mean|  0.53744065550074|\n",
      "| stddev|1.5550279355699066|\n",
      "|    min|              0.01|\n",
      "|    max|             82.74|\n",
      "+-------+------------------+\n",
      "\n"
     ]
    }
   ],
   "source": [
    "vg_sales_df.describe(\"Global_Sales\").show()"
   ]
  },
  {
   "cell_type": "code",
   "execution_count": 12,
   "id": "numerous-asian",
   "metadata": {},
   "outputs": [
    {
     "name": "stdout",
     "output_type": "stream",
     "text": [
      "+------------+\n",
      "|       Genre|\n",
      "+------------+\n",
      "|   Adventure|\n",
      "|      Sports|\n",
      "|      Racing|\n",
      "|Role-Playing|\n",
      "|     Shooter|\n",
      "|        Misc|\n",
      "|    Platform|\n",
      "|      Puzzle|\n",
      "|    Fighting|\n",
      "|      Action|\n",
      "|    Strategy|\n",
      "|  Simulation|\n",
      "+------------+\n",
      "\n"
     ]
    }
   ],
   "source": [
    "# Select\n",
    "vg_sales_df.select(\"Genre\").distinct().show()"
   ]
  },
  {
   "cell_type": "code",
   "execution_count": 13,
   "id": "entitled-solid",
   "metadata": {},
   "outputs": [
    {
     "name": "stdout",
     "output_type": "stream",
     "text": [
      "+--------+\n",
      "|Platform|\n",
      "+--------+\n",
      "|     3DO|\n",
      "|      PC|\n",
      "|     PS3|\n",
      "|     NES|\n",
      "|      PS|\n",
      "|      DC|\n",
      "|     GEN|\n",
      "|     PS2|\n",
      "|     3DS|\n",
      "|    PCFX|\n",
      "|      GG|\n",
      "|    WiiU|\n",
      "|    SNES|\n",
      "|      GB|\n",
      "|     SCD|\n",
      "|     N64|\n",
      "|     PS4|\n",
      "|     PSP|\n",
      "|    2600|\n",
      "|    XOne|\n",
      "+--------+\n",
      "only showing top 20 rows\n",
      "\n"
     ]
    }
   ],
   "source": [
    "vg_sales_df.select(\"Platform\").distinct().show()"
   ]
  },
  {
   "cell_type": "code",
   "execution_count": 14,
   "id": "suburban-prairie",
   "metadata": {},
   "outputs": [
    {
     "name": "stdout",
     "output_type": "stream",
     "text": [
      "+--------+\n",
      "|Platform|\n",
      "+--------+\n",
      "|     3DO|\n",
      "|      PC|\n",
      "|     PS3|\n",
      "|     NES|\n",
      "|      PS|\n",
      "|      DC|\n",
      "|     GEN|\n",
      "|     PS2|\n",
      "|     3DS|\n",
      "|    PCFX|\n",
      "|      GG|\n",
      "|    WiiU|\n",
      "|    SNES|\n",
      "|      GB|\n",
      "|     SCD|\n",
      "|     N64|\n",
      "|     PS4|\n",
      "|     PSP|\n",
      "|    2600|\n",
      "|    XOne|\n",
      "|    X360|\n",
      "|     GBA|\n",
      "|      WS|\n",
      "|     Wii|\n",
      "|      GC|\n",
      "|     PSV|\n",
      "|      XB|\n",
      "|      DS|\n",
      "|    TG16|\n",
      "|      NG|\n",
      "|     SAT|\n",
      "+--------+\n",
      "\n"
     ]
    }
   ],
   "source": [
    "vg_sales_df.select(\"Platform\").distinct().show(50)"
   ]
  },
  {
   "cell_type": "code",
   "execution_count": 16,
   "id": "successful-guess",
   "metadata": {},
   "outputs": [
    {
     "name": "stdout",
     "output_type": "stream",
     "text": [
      "+--------+--------------------+\n",
      "|Platform|                Name|\n",
      "+--------+--------------------+\n",
      "|     3DS|Pokemon Omega Rub...|\n",
      "+--------+--------------------+\n",
      "\n"
     ]
    }
   ],
   "source": [
    "# Filter/Where\n",
    "vg_sales_df.select(\"Platform\", \"Name\").filter(col(\"Rank\") == 50).show()\n"
   ]
  },
  {
   "cell_type": "code",
   "execution_count": 18,
   "id": "stuck-retail",
   "metadata": {},
   "outputs": [
    {
     "name": "stdout",
     "output_type": "stream",
     "text": [
      "+--------+-----------------------------------------+\n",
      "|Platform|Name                                     |\n",
      "+--------+-----------------------------------------+\n",
      "|3DS     |Pokemon Omega Ruby/Pokemon Alpha Sapphire|\n",
      "+--------+-----------------------------------------+\n",
      "\n"
     ]
    }
   ],
   "source": [
    "vg_sales_df.select(\"Platform\", \"Name\").filter(col(\"Rank\") == 50).show(truncate=False)\n"
   ]
  },
  {
   "cell_type": "code",
   "execution_count": 21,
   "id": "banned-statement",
   "metadata": {},
   "outputs": [
    {
     "name": "stdout",
     "output_type": "stream",
     "text": [
      "+--------+----------------------------------+\n",
      "|Platform|Name                              |\n",
      "+--------+----------------------------------+\n",
      "|GB      |Super Mario Land 2: 6 Golden Coins|\n",
      "|X360    |Grand Theft Auto IV               |\n",
      "|PS      |Gran Turismo                      |\n",
      "|3DS     |Super Mario 3D Land               |\n",
      "+--------+----------------------------------+\n",
      "\n"
     ]
    }
   ],
   "source": [
    "vg_sales_df.select(\"Platform\", \"Name\").filter((vg_sales_df.Rank > 50) & (vg_sales_df.Rank < 55) ).show(truncate=False)"
   ]
  },
  {
   "cell_type": "code",
   "execution_count": 24,
   "id": "valid-adapter",
   "metadata": {
    "scrolled": true
   },
   "outputs": [
    {
     "name": "stdout",
     "output_type": "stream",
     "text": [
      "+--------+-----------------------------------------+\n",
      "|Platform|Name                                     |\n",
      "+--------+-----------------------------------------+\n",
      "|Wii     |Wii Sports                               |\n",
      "|NES     |Super Mario Bros.                        |\n",
      "|Wii     |Mario Kart Wii                           |\n",
      "|Wii     |Wii Sports Resort                        |\n",
      "|GB      |Pokemon Red/Pokemon Blue                 |\n",
      "|3DS     |Pokemon Omega Ruby/Pokemon Alpha Sapphire|\n",
      "+--------+-----------------------------------------+\n",
      "\n"
     ]
    }
   ],
   "source": [
    "vg_sales_df.select(\"Platform\", \"Name\")\\\n",
    "    .filter((vg_sales_df.Rank == 50) | (vg_sales_df.Rank <= 5)).show(truncate=False)"
   ]
  },
  {
   "cell_type": "code",
   "execution_count": 29,
   "id": "tired-homeless",
   "metadata": {
    "scrolled": true
   },
   "outputs": [
    {
     "name": "stdout",
     "output_type": "stream",
     "text": [
      "+----------------------------------------------------------------------------------------+-----+------------+\n",
      "|Name                                                                                    |Rank |Global_Sales|\n",
      "+----------------------------------------------------------------------------------------+-----+------------+\n",
      "|Turok                                                                                   |15983|0.01        |\n",
      "|Smart Kid's Mega Game Mix                                                               |16003|0.01        |\n",
      "|Coven and Labyrinth of Refrain                                                          |15984|0.01        |\n",
      "|Super Battle For Money Sentouchuu: Kyuukyoku no Shinobu to Battle Player Choujou Kessen!|15985|0.01        |\n",
      "|Dragon Zakura DS                                                                        |15986|0.01        |\n",
      "|Chameleon: To Dye For!                                                                  |15987|0.01        |\n",
      "|Hotel Giant DS                                                                          |15988|0.01        |\n",
      "|Sora no Otoshimono: DokiDoki Summer Vacation                                            |15989|0.01        |\n",
      "|Blackthorne                                                                             |15990|0.01        |\n",
      "|Don Bradman Cricket 14                                                                  |15991|0.01        |\n",
      "|DokuSui: DokiDoki Suikoden                                                              |15992|0.01        |\n",
      "|Shinseiki Evangelion: Battle Orchestra Portable                                         |15993|0.01        |\n",
      "|Donkey Kong Jungle Beat                                                                 |15994|0.01        |\n",
      "|Bomberman (jp sales)                                                                    |15995|0.01        |\n",
      "|Blazblue: Continuum Shift Extend                                                        |15996|0.01        |\n",
      "|S.Y.K: Shinsetsu Saiyuuki                                                               |15997|0.01        |\n",
      "|Football Manager Live                                                                   |15998|0.01        |\n",
      "|Captain Morgane and the Golden Turtle                                                   |15999|0.01        |\n",
      "|Black Cat                                                                               |16000|0.01        |\n",
      "|One Piece: Daikaizoku Coliseum                                                          |16001|0.01        |\n",
      "+----------------------------------------------------------------------------------------+-----+------------+\n",
      "only showing top 20 rows\n",
      "\n"
     ]
    }
   ],
   "source": [
    "# OrderBy/Sort\n",
    "vg_sales_df.select(\"Name\",\"Rank\",\"Global_Sales\")\\\n",
    "    .orderBy(\"Global_Sales\").show(truncate=False)\n"
   ]
  },
  {
   "cell_type": "code",
   "execution_count": 49,
   "id": "chemical-cemetery",
   "metadata": {
    "scrolled": false
   },
   "outputs": [
    {
     "name": "stdout",
     "output_type": "stream",
     "text": [
      "+-----------------------------------------------------+-----+------------+\n",
      "|Name                                                 |Rank |Global_Sales|\n",
      "+-----------------------------------------------------+-----+------------+\n",
      "|Rat Attack!                                          |13455|0.0         |\n",
      "|Atelier Escha & Logy: Alchemists of the Dusk Sky     |13475|0.0         |\n",
      "|Jewel Master: Cradle Of Rome 2                       |13456|0.0         |\n",
      "|National Geographic Panda (US sales)                 |13457|0.0         |\n",
      "|Sushi Go-Round                                       |13458|0.0         |\n",
      "|Danny Phantom: Urban Jungle                          |13459|0.0         |\n",
      "|Sotsugyou II: Neo Generation                         |13460|0.0         |\n",
      "|Summon Night Craft Sword Monogatari: Hajimari no Ishi|13461|0.0         |\n",
      "|The King of Fighters 2002: Unlimited Match           |13462|0.0         |\n",
      "|Art of Fighting Anthology                            |13463|0.0         |\n",
      "|Rapala Trophies                                      |13464|0.0         |\n",
      "|Phoenix Wright: Revived Turnabout                    |13465|0.0         |\n",
      "|Mana Khemia: Alchemists of Al-Revis (JP sales)       |13466|0.0         |\n",
      "|Runaway: A Twist of Fate                             |13467|0.0         |\n",
      "|Cheer We Go!                                         |13468|0.0         |\n",
      "|The Tale of Despereaux                               |13469|0.0         |\n",
      "|The Hustle: Detroit Streets                          |13470|0.0         |\n",
      "|Virtua Fighter CG Portrait Series Vol.6: Lau Chan    |13471|0.0         |\n",
      "|Tomoyo After: It's a Wonderful Life CS Edition       |13472|0.0         |\n",
      "|Guilty Gear XX Accent Core                           |13473|0.0         |\n",
      "+-----------------------------------------------------+-----+------------+\n",
      "only showing top 20 rows\n",
      "\n"
     ]
    }
   ],
   "source": [
    "vg_sales_df.select(\"Name\",\"Rank\", round(col(\"Global_Sales\"), 1).alias(\"Global_Sales\"))\\\n",
    "    .orderBy(\"Global_Sales\").show(truncate=False)"
   ]
  },
  {
   "cell_type": "code",
   "execution_count": 54,
   "id": "powered-correction",
   "metadata": {},
   "outputs": [
    {
     "name": "stdout",
     "output_type": "stream",
     "text": [
      "+-------------------------------------------+-----+------------+\n",
      "|Name                                       |Rank |Global_Sales|\n",
      "+-------------------------------------------+-----+------------+\n",
      "|'98 Koshien                                |4756 |0.4         |\n",
      "|.hack//G.U. Vol.1//Rebirth                 |8359 |0.2         |\n",
      "|.hack//G.U. Vol.2//Reminisce               |7109 |0.2         |\n",
      "|.hack//G.U. Vol.2//Reminisce (jp sales)    |8604 |0.2         |\n",
      "|.hack//G.U. Vol.3//Redemption              |8306 |0.2         |\n",
      "|.hack//Infection Part 1                    |1565 |1.3         |\n",
      "|.hack//Link                                |9076 |0.1         |\n",
      "|.hack//Mutation Part 2                     |3004 |0.7         |\n",
      "|.hack//Outbreak Part 3                     |4296 |0.5         |\n",
      "|.hack//Quarantine Part 4: The Final Chapter|8009 |0.2         |\n",
      "|.hack: Sekai no Mukou ni + Versus          |14279|0.0         |\n",
      "|007 Racing                                 |3770 |0.5         |\n",
      "|007: Quantum of Solace                     |1741 |1.2         |\n",
      "|007: Quantum of Solace                     |3040 |0.7         |\n",
      "|007: Quantum of Solace                     |4501 |0.4         |\n",
      "|007: Quantum of Solace                     |9320 |0.1         |\n",
      "|007: Quantum of Solace                     |1275 |1.5         |\n",
      "|007: Quantum of Solace                     |14550|0.0         |\n",
      "|007: The World is not Enough               |1202 |1.6         |\n",
      "|007: The World is not Enough               |2249 |0.9         |\n",
      "+-------------------------------------------+-----+------------+\n",
      "only showing top 20 rows\n",
      "\n"
     ]
    }
   ],
   "source": [
    "vg_sales_df.select(\"Name\",\"Rank\", round(col(\"Global_Sales\"), 1).alias(\"Global_Sales\"))\\\n",
    "    .orderBy(\"Name\").show(truncate=False)"
   ]
  },
  {
   "cell_type": "code",
   "execution_count": 55,
   "id": "comfortable-chain",
   "metadata": {},
   "outputs": [
    {
     "name": "stdout",
     "output_type": "stream",
     "text": [
      "+----------------------------+-----+------------+\n",
      "|Name                        |Rank |Global_Sales|\n",
      "+----------------------------+-----+------------+\n",
      "|¡Shin Chan Flipa en colores!|9137 |0.1         |\n",
      "|wwe Smackdown vs. Raw 2006  |471  |3.0         |\n",
      "|uDraw Studio: Instant Artist|7837 |0.2         |\n",
      "|uDraw Studio: Instant Artist|15526|0.0         |\n",
      "|uDraw Studio                |628  |2.5         |\n",
      "|thinkSMART: Chess for Kids  |16417|0.0         |\n",
      "|thinkSMART FAMILY!          |14387|0.0         |\n",
      "|thinkSMART                  |10798|0.1         |\n",
      "|th!nk Logic Trainer         |16420|0.0         |\n",
      "|pro evolution soccer 2011   |3305 |0.6         |\n",
      "|pro evolution soccer 2011   |4687 |0.4         |\n",
      "|pro evolution soccer 2011   |7090 |0.2         |\n",
      "|pro evolution soccer 2011   |640  |2.4         |\n",
      "|pro evolution soccer 2011   |12607|0.1         |\n",
      "|pro evolution soccer 2011   |2597 |0.8         |\n",
      "|nail'd                      |9854 |0.1         |\n",
      "|nail'd                      |10627|0.1         |\n",
      "|inFAMOUS: Second Son        |539  |2.8         |\n",
      "|inFAMOUS 2                  |941  |1.9         |\n",
      "|inFAMOUS                    |488  |2.9         |\n",
      "+----------------------------+-----+------------+\n",
      "only showing top 20 rows\n",
      "\n"
     ]
    }
   ],
   "source": [
    "vg_sales_df.select(\"Name\",\"Rank\", round(col(\"Global_Sales\"), 1).alias(\"Global_Sales\"))\\\n",
    "    .orderBy(\"Name\", ascending=False).show(truncate=False)"
   ]
  },
  {
   "cell_type": "code",
   "execution_count": 41,
   "id": "otherwise-catering",
   "metadata": {
    "scrolled": true
   },
   "outputs": [
    {
     "name": "stdout",
     "output_type": "stream",
     "text": [
      "+--------+------------------------------------------------------------+-----+------------+\n",
      "|Platform|Name                                                        |Rank |Global_Sales|\n",
      "+--------+------------------------------------------------------------+-----+------------+\n",
      "|PS3     |One Piece: Pirate Warriors                                  |1685 |1.2         |\n",
      "|PS3     |One Piece: Pirate Warriors 2                                |2962 |0.69        |\n",
      "|PS      |One Piece: Grand Battle!                                    |4061 |0.49        |\n",
      "|PS4     |One Piece: Pirate Warriors 3                                |4363 |0.45        |\n",
      "|3DS     |One Piece: Unlimited World Red                              |4979 |0.38        |\n",
      "|DS      |One Piece: Gigant Battle!                                   |5181 |0.36        |\n",
      "|DS      |One Piece: Gigant Battle 2 Shin Sekai                       |5298 |0.35        |\n",
      "|PSP     |One Piece: Romance Dawn - Bouken no Yoake                   |5583 |0.32        |\n",
      "|PS3     |One Piece: Unlimited World Red                              |5828 |0.3         |\n",
      "|3DS     |One Piece Unlimited Cruise SP                               |5895 |0.3         |\n",
      "|PS3     |One Piece: Pirate Warriors 3                                |6051 |0.29        |\n",
      "|Wii     |One Piece Unlimited Cruise 2: Awakening of a Hero           |5985 |0.29        |\n",
      "|PS4     |One Piece: Burning Blood                                    |6126 |0.28        |\n",
      "|Wii     |One Piece Unlimited Cruise 1: The Treasure Beneath the Waves|6247 |0.28        |\n",
      "|PSV     |One Piece: Pirate Warriors 3                                |7305 |0.22        |\n",
      "|Wii     |One Piece: Unlimited Adventure                              |7943 |0.19        |\n",
      "|PSV     |One Piece: Unlimited World Red                              |8282 |0.17        |\n",
      "|PSV     |One Piece: Pirate Warriors 2                                |9706 |0.12        |\n",
      "|3DS     |One Piece: Super Grand Battle! X                            |9894 |0.12        |\n",
      "|PSV     |One Piece: Burning Blood                                    |10266|0.11        |\n",
      "+--------+------------------------------------------------------------+-----+------------+\n",
      "only showing top 20 rows\n",
      "\n"
     ]
    }
   ],
   "source": [
    "# Like\n",
    "vg_sales_df.select(\"Platform\", \"Name\", \"Rank\", \"Global_Sales\")\\\n",
    "    .filter(col(\"Name\").like(\"One Piece%\")).orderBy(\"Global_Sales\", ascending=False).show(truncate=False)"
   ]
  },
  {
   "cell_type": "markdown",
   "id": "spread-trademark",
   "metadata": {},
   "source": [
    "## GROUP BY"
   ]
  },
  {
   "cell_type": "code",
   "execution_count": 33,
   "id": "pointed-affair",
   "metadata": {},
   "outputs": [
    {
     "name": "stdout",
     "output_type": "stream",
     "text": [
      "+--------+----+---------+--------------------+-----+\n",
      "|Platform|Year|    Genre|           Publisher|count|\n",
      "+--------+----+---------+--------------------+-----+\n",
      "|     PSP|2009|   Racing|Sony Computer Ent...|    3|\n",
      "|     PS2|2003|   Action|             Ubisoft|    5|\n",
      "|     PS2|2008|   Action|Warner Bros. Inte...|    1|\n",
      "|     N64|1999|  Shooter|            Nintendo|    1|\n",
      "|      PS|2000|   Action|     Electronic Arts|    1|\n",
      "|     PS2|2004| Fighting|  Namco Bandai Games|    2|\n",
      "|     PS2|2003| Strategy|         Square Enix|    1|\n",
      "|     PSV|2013|   Sports|     Electronic Arts|    1|\n",
      "|     PS2|2002| Fighting|          Activision|    1|\n",
      "|     PS3|2011|   Racing|                 THQ|    1|\n",
      "|    X360|2015|   Action|          Activision|    3|\n",
      "|      PS|1999|   Racing|          SquareSoft|    1|\n",
      "|     PS2|2003|   Sports|Acclaim Entertain...|    3|\n",
      "|      PS|1996|   Action|     Electronic Arts|    3|\n",
      "|      DS|2007|   Action|Warner Bros. Inte...|    1|\n",
      "|      DS|2009|     Misc|Majesco Entertain...|    5|\n",
      "|     Wii|2006|Adventure|                 THQ|    1|\n",
      "|    X360|2009| Platform|              Capcom|    1|\n",
      "|    2600| N/A|   Racing|               Atari|    1|\n",
      "|      PS|2001|   Sports|Acclaim Entertain...|    2|\n",
      "+--------+----+---------+--------------------+-----+\n",
      "only showing top 20 rows\n",
      "\n"
     ]
    }
   ],
   "source": [
    "# GroupBy\n",
    "\n",
    "dimensions = [\"Platform\",\"Year\",\"Genre\",\"Publisher\"]\n",
    "metrics = [\"NA_Sales\",\"EU_Sales\",\"JP_Sales\",\"Other_Sales\",\"Global_Sales\"]\n",
    "dim_vg_sales_df = vg_sales_df.groupBy(dimensions).count()\n",
    "dim_vg_sales_df.show()\n"
   ]
  },
  {
   "cell_type": "code",
   "execution_count": 34,
   "id": "outer-wheat",
   "metadata": {},
   "outputs": [
    {
     "name": "stdout",
     "output_type": "stream",
     "text": [
      "+--------+-----+\n",
      "|Platform|count|\n",
      "+--------+-----+\n",
      "|     3DO|    3|\n",
      "|      PC|  960|\n",
      "|     PS3| 1329|\n",
      "|     NES|   98|\n",
      "|      PS| 1196|\n",
      "|      DC|   52|\n",
      "|     GEN|   27|\n",
      "|     PS2| 2161|\n",
      "|     3DS|  509|\n",
      "|    PCFX|    1|\n",
      "|      GG|    1|\n",
      "|    WiiU|  143|\n",
      "|    SNES|  239|\n",
      "|      GB|   98|\n",
      "|     SCD|    6|\n",
      "|     N64|  319|\n",
      "|     PS4|  336|\n",
      "|     PSP| 1213|\n",
      "|    2600|  133|\n",
      "|    XOne|  213|\n",
      "+--------+-----+\n",
      "only showing top 20 rows\n",
      "\n"
     ]
    }
   ],
   "source": [
    "groupby_platform = vg_sales_df.groupBy(\"Platform\").count()\n",
    "groupby_platform.show()"
   ]
  },
  {
   "cell_type": "code",
   "execution_count": 35,
   "id": "touched-resolution",
   "metadata": {},
   "outputs": [
    {
     "name": "stdout",
     "output_type": "stream",
     "text": [
      "+------------+-----+\n",
      "|       Genre|count|\n",
      "+------------+-----+\n",
      "|   Adventure| 1286|\n",
      "|      Sports| 2346|\n",
      "|      Racing| 1249|\n",
      "|Role-Playing| 1488|\n",
      "|     Shooter| 1310|\n",
      "|        Misc| 1739|\n",
      "|    Platform|  886|\n",
      "|      Puzzle|  582|\n",
      "|    Fighting|  848|\n",
      "|      Action| 3316|\n",
      "|    Strategy|  681|\n",
      "|  Simulation|  867|\n",
      "+------------+-----+\n",
      "\n"
     ]
    }
   ],
   "source": [
    "groupby_genre = vg_sales_df.groupBy(\"Genre\").count()\n",
    "groupby_genre.show()"
   ]
  },
  {
   "cell_type": "code",
   "execution_count": 57,
   "id": "particular-study",
   "metadata": {
    "scrolled": true
   },
   "outputs": [
    {
     "name": "stdout",
     "output_type": "stream",
     "text": [
      "+------------+------------------+-------------------+-------------------+--------------------+--------------------+-------------------+\n",
      "|Genre       |avg(Rank)         |avg(NA_Sales)      |avg(EU_Sales)      |avg(JP_Sales)       |avg(Other_Sales)    |avg(Global_Sales)  |\n",
      "+------------+------------------+-------------------+-------------------+--------------------+--------------------+-------------------+\n",
      "|Adventure   |11532.787713841368|0.08227060653188178|0.04986780715396585|0.0404898911353035  |0.013071539657853829|0.18587869362364026|\n",
      "|Sports      |7425.026427962489 |0.2912830349531103 |0.16063512361466095|0.057702472293265306|0.05753196930946188 |0.567318840579705  |\n",
      "|Racing      |7961.515612489992 |0.28776621297037447|0.19086469175340293|0.04538831064851883 |0.06186549239391606 |0.5861008807045601 |\n",
      "|Role-Playing|8086.174731182796 |0.2199462365591391 |0.12638440860215075|0.23676747311827817 |0.040060483870967736|0.6232325268817165 |\n",
      "|Shooter     |7369.367938931297 |0.44473282442747714|0.23913740458015015|0.029221374045801583|0.0783893129771001  |0.7918854961831986 |\n",
      "+------------+------------------+-------------------+-------------------+--------------------+--------------------+-------------------+\n",
      "only showing top 5 rows\n",
      "\n"
     ]
    }
   ],
   "source": [
    "genre_avg = vg_sales_df.groupBy(\"Genre\").avg()\n",
    "genre_avg.show(5, truncate=False)"
   ]
  },
  {
   "cell_type": "code",
   "execution_count": 88,
   "id": "unauthorized-diving",
   "metadata": {},
   "outputs": [
    {
     "name": "stdout",
     "output_type": "stream",
     "text": [
      "+------------+--------+-----------------+\n",
      "|       Genre|Platform|min(Global_Sales)|\n",
      "+------------+--------+-----------------+\n",
      "|        Misc|    2600|             0.24|\n",
      "|      Sports|     SAT|             0.02|\n",
      "|Role-Playing|     GEN|             0.05|\n",
      "|    Platform|      GB|             0.07|\n",
      "|      Puzzle|     NES|             0.06|\n",
      "|        Misc|     PS2|             0.01|\n",
      "|Role-Playing|     NES|             0.11|\n",
      "|      Racing|     PSP|             0.01|\n",
      "|      Puzzle|      PC|             0.01|\n",
      "|   Adventure|     PS3|             0.01|\n",
      "|   Adventure|     PSV|             0.01|\n",
      "|      Action|     PS2|             0.01|\n",
      "|Role-Playing|      PC|             0.01|\n",
      "|      Racing|      XB|             0.01|\n",
      "|    Strategy|    WiiU|             0.02|\n",
      "|Role-Playing|     Wii|             0.02|\n",
      "|      Racing|      GC|             0.01|\n",
      "|    Fighting|      PS|             0.01|\n",
      "|      Racing|     GBA|             0.01|\n",
      "|  Simulation|     PS4|             0.01|\n",
      "+------------+--------+-----------------+\n",
      "only showing top 20 rows\n",
      "\n"
     ]
    }
   ],
   "source": [
    "agg_values_df = vg_sales_df.groupBy(\"Genre\", \"Platform\").min(\"Global_Sales\")\n",
    "agg_values_df.show()"
   ]
  },
  {
   "cell_type": "code",
   "execution_count": 68,
   "id": "worse-district",
   "metadata": {
    "scrolled": true
   },
   "outputs": [
    {
     "name": "stdout",
     "output_type": "stream",
     "text": [
      "+----------------+-------------------+-----------------+-------------+\n",
      "|   sum(EU_Sales)|      avg(JP_Sales)|max(Global_Sales)|min(NA_Sales)|\n",
      "+----------------+-------------------+-----------------+-------------+\n",
      "|2434.13000000055|0.07778166044101108|            82.74|          0.0|\n",
      "+----------------+-------------------+-----------------+-------------+\n",
      "\n"
     ]
    }
   ],
   "source": [
    "other_agg_values_df = vg_sales_df.agg({\"Global_Sales\": \"max\",\n",
    "                                 \"NA_Sales\": \"min\",\n",
    "                                 \"EU_Sales\": \"sum\",\n",
    "                                 \"JP_Sales\": \"mean\"})\n",
    "other_agg_values_df.show()"
   ]
  },
  {
   "cell_type": "code",
   "execution_count": 83,
   "id": "muslim-kingston",
   "metadata": {},
   "outputs": [
    {
     "name": "stdout",
     "output_type": "stream",
     "text": [
      "+-------------------+-----------------+-------------+\n",
      "|      avg(JP_Sales)|max(Global_Sales)|min(NA_Sales)|\n",
      "+-------------------+-----------------+-------------+\n",
      "|0.07778166044101108|            82.74|          0.0|\n",
      "+-------------------+-----------------+-------------+\n",
      "\n"
     ]
    }
   ],
   "source": [
    "other_agg_values_df.drop(\"sum(EU_Sales)\").show()"
   ]
  },
  {
   "cell_type": "code",
   "execution_count": 90,
   "id": "fallen-artist",
   "metadata": {},
   "outputs": [
    {
     "name": "stdout",
     "output_type": "stream",
     "text": [
      "+------------+--------+-----------------+\n",
      "|       Genre|Platform|min(Global_Sales)|\n",
      "+------------+--------+-----------------+\n",
      "|   Adventure|     PS3|             0.01|\n",
      "|      Sports|     SAT|             0.02|\n",
      "|      Racing|     PSP|             0.01|\n",
      "|Role-Playing|     GEN|             0.05|\n",
      "|     Shooter|     3DS|             0.02|\n",
      "|        Misc|    2600|             0.24|\n",
      "|    Platform|      GB|             0.07|\n",
      "|      Puzzle|     NES|             0.06|\n",
      "|    Fighting|      PS|             0.01|\n",
      "|      Action|     PS2|             0.01|\n",
      "|    Strategy|    WiiU|             0.02|\n",
      "|  Simulation|     PS4|             0.01|\n",
      "+------------+--------+-----------------+\n",
      "\n"
     ]
    }
   ],
   "source": [
    "agg_values_df.dropDuplicates([\"Genre\"]).show()"
   ]
  },
  {
   "cell_type": "code",
   "execution_count": null,
   "id": "local-century",
   "metadata": {},
   "outputs": [],
   "source": []
  },
  {
   "cell_type": "code",
   "execution_count": 79,
   "id": "critical-criticism",
   "metadata": {},
   "outputs": [],
   "source": [
    "def generate_mean(dataframe, dimension, metric):\n",
    "    dataframe = dataframe.groupBy(dimension).mean(metric)\n",
    "    return dataframe\n",
    "\n",
    "def generate_sum(dataframe, dimension):\n",
    "    dataframe = dataframe.groupBy(dimension).sum()\n",
    "    return dataframe"
   ]
  },
  {
   "cell_type": "code",
   "execution_count": 94,
   "id": "consolidated-paraguay",
   "metadata": {},
   "outputs": [
    {
     "name": "stdout",
     "output_type": "stream",
     "text": [
      "+----+--------------------+\n",
      "|Year|   avg(Global_Sales)|\n",
      "+----+--------------------+\n",
      "|1987|  1.3587499999999997|\n",
      "|2016| 0.20619186046511667|\n",
      "|2012|  0.5533333333333309|\n",
      "|2020|                0.29|\n",
      "|1988|               3.148|\n",
      "|2017|0.016666666666666666|\n",
      "|2014|  0.5791237113402036|\n",
      "|1984|  3.5971428571428583|\n",
      "|2013|  0.6741941391941367|\n",
      "|1982|  0.8016666666666665|\n",
      "|2005|  0.4887778958554704|\n",
      "|2000|  0.5775358166189117|\n",
      "|1981|  0.7776086956521742|\n",
      "|2002| 0.47710494571773016|\n",
      "|2009|  0.4663172606568796|\n",
      "|1995|  0.4023287671232873|\n",
      "|2006|  0.5169047619047537|\n",
      "|2004|  0.5495543905635631|\n",
      "|1989|   4.320588235294117|\n",
      "|2011|  0.4530201931518849|\n",
      "+----+--------------------+\n",
      "only showing top 20 rows\n",
      "\n"
     ]
    }
   ],
   "source": [
    "generate_mean(vg_sales_df, \"Year\", \"Global_Sales\").show()"
   ]
  },
  {
   "cell_type": "code",
   "execution_count": 93,
   "id": "municipal-burning",
   "metadata": {},
   "outputs": [
    {
     "name": "stdout",
     "output_type": "stream",
     "text": [
      "+----------+----+-------------------+\n",
      "|     Genre|Year|  avg(Global_Sales)|\n",
      "+----------+----+-------------------+\n",
      "|      Misc|1980|             0.6775|\n",
      "|  Platform|1988|             6.9325|\n",
      "|    Action|1991| 1.3519999999999999|\n",
      "|      Misc|2000| 0.7769999999999999|\n",
      "|    Sports|1993| 0.3533333333333333|\n",
      "|  Strategy| N/A|              0.169|\n",
      "|    Racing|1996| 1.2836363636363632|\n",
      "|Simulation|1981|               0.45|\n",
      "|Simulation|1988|               0.03|\n",
      "|    Racing|1986|               1.96|\n",
      "|    Action|2008| 0.6171493212669683|\n",
      "|  Strategy|1998| 0.3848571428571429|\n",
      "|    Action|1989|               2.32|\n",
      "|  Fighting|1997|               0.42|\n",
      "|    Puzzle|2000| 0.3183333333333333|\n",
      "|    Sports|2004| 0.6007547169811324|\n",
      "|    Puzzle|1991| 0.8099999999999999|\n",
      "|  Fighting|1985|               1.05|\n",
      "|Simulation| N/A|0.12750000000000003|\n",
      "|      Misc|1982|               0.87|\n",
      "+----------+----+-------------------+\n",
      "only showing top 20 rows\n",
      "\n"
     ]
    }
   ],
   "source": [
    "generate_mean(vg_sales_df, [\"Genre\", \"Year\"], \"Global_Sales\").show()"
   ]
  },
  {
   "cell_type": "code",
   "execution_count": 81,
   "id": "written-consistency",
   "metadata": {},
   "outputs": [
    {
     "name": "stdout",
     "output_type": "stream",
     "text": [
      "+------------+---------+------------------+------------------+------------------+------------------+------------------+\n",
      "|       Genre|sum(Rank)|     sum(NA_Sales)|     sum(EU_Sales)|     sum(JP_Sales)|  sum(Other_Sales)| sum(Global_Sales)|\n",
      "+------------+---------+------------------+------------------+------------------+------------------+------------------+\n",
      "|   Adventure| 14831165|105.79999999999998| 64.13000000000008|  52.0700000000003|16.810000000000024|239.04000000000138|\n",
      "|      Sports| 17419112| 683.3499999999967|376.84999999999457| 135.3700000000004|134.96999999999758| 1330.929999999988|\n",
      "|      Racing|  9943933|359.41999999999774|238.39000000000024| 56.69000000000002| 77.27000000000116| 732.0399999999955|\n",
      "|Role-Playing| 12032228|  327.279999999999|188.06000000000031| 352.3099999999979| 59.60999999999999| 927.3699999999941|\n",
      "|     Shooter|  9653872|  582.599999999995| 313.2699999999967| 38.28000000000007|102.69000000000112|1037.3699999999901|\n",
      "|        Misc| 14889052|410.23999999999904|215.98000000000036|107.75999999999995| 75.32000000000136| 809.9599999999936|\n",
      "|    Platform|  6137545| 447.0499999999991|201.63000000000017|130.77000000000012|51.589999999999776| 831.3699999999974|\n",
      "|      Puzzle|  5603136|123.78000000000009| 50.77999999999998| 57.30999999999997|12.549999999999935| 244.9500000000005|\n",
      "|    Fighting|  6484242|223.59000000000017|101.32000000000025| 87.35000000000014| 36.67999999999998|448.90999999999923|\n",
      "|      Action| 26441383| 877.8299999999916| 524.9999999999854|159.95000000000087| 187.3799999999972|1751.1799999999691|\n",
      "|    Strategy|  6858962| 68.70000000000019| 45.34000000000005| 49.46000000000003|11.359999999999932| 175.1200000000004|\n",
      "|  Simulation|  7478816|183.31000000000068| 113.3800000000002| 63.70000000000007|31.520000000000294|392.19999999999783|\n",
      "+------------+---------+------------------+------------------+------------------+------------------+------------------+\n",
      "\n"
     ]
    }
   ],
   "source": [
    "generate_sum(vg_sales_df, \"Genre\").show()"
   ]
  },
  {
   "cell_type": "code",
   "execution_count": 109,
   "id": "suburban-cutting",
   "metadata": {},
   "outputs": [],
   "source": [
    "# Union\n",
    "colunas = ['identificador', 'nome', 'idade', 'nome_pet']\n",
    "linhas_df1 = [(1, \"Roger\", 45, \"Oswaldo\"),\n",
    "              (2, \"Rayleigh\", 41, \"\"),\n",
    "              (3, \"Shanks\", 35, \"Rex\"),\n",
    "              (4, \"Olivia\", 40, \"Pipoca\"),\n",
    "              (5, \"Robin\", 23, \"Mel\"),\n",
    "              (6, \"Vivi\", 20, \"Karue\")]\n",
    "\n",
    "colunas = ['identificador', 'nome', 'idade', 'nome_pet']\n",
    "linhas_df2 = [(7, \"Luffy\", 22, \"\"),\n",
    "              (10, \"Teach\", 32, \"Tungstenio\"),\n",
    "              (13, \"Nami\", 21, \"Usopp\"),\n",
    "              (14, \"Garp\", 45, \"\")]\n",
    "\n",
    "union_df1 = spark.createDataFrame(linhas_df1, colunas)\n",
    "union_df2 = spark.createDataFrame(linhas_df2, colunas)"
   ]
  },
  {
   "cell_type": "code",
   "execution_count": 110,
   "id": "primary-moment",
   "metadata": {},
   "outputs": [
    {
     "name": "stdout",
     "output_type": "stream",
     "text": [
      "+-------------+--------+-----+--------+\n",
      "|identificador|    nome|idade|nome_pet|\n",
      "+-------------+--------+-----+--------+\n",
      "|            1|   Roger|   45| Oswaldo|\n",
      "|            2|Rayleigh|   41|        |\n",
      "|            3|  Shanks|   35|     Rex|\n",
      "|            4|  Olivia|   40|  Pipoca|\n",
      "|            5|   Robin|   23|     Mel|\n",
      "|            6|    Vivi|   20|   Karue|\n",
      "+-------------+--------+-----+--------+\n",
      "\n"
     ]
    }
   ],
   "source": [
    "union_df1.show()"
   ]
  },
  {
   "cell_type": "code",
   "execution_count": 111,
   "id": "placed-queens",
   "metadata": {},
   "outputs": [
    {
     "name": "stdout",
     "output_type": "stream",
     "text": [
      "+-------------+-----+-----+----------+\n",
      "|identificador| nome|idade|  nome_pet|\n",
      "+-------------+-----+-----+----------+\n",
      "|            7|Luffy|   22|          |\n",
      "|           10|Teach|   32|Tungstenio|\n",
      "|           13| Nami|   21|     Usopp|\n",
      "|           14| Garp|   45|          |\n",
      "+-------------+-----+-----+----------+\n",
      "\n"
     ]
    }
   ],
   "source": [
    "union_df2.show()"
   ]
  },
  {
   "cell_type": "code",
   "execution_count": 113,
   "id": "speaking-liverpool",
   "metadata": {},
   "outputs": [
    {
     "name": "stdout",
     "output_type": "stream",
     "text": [
      "+-------------+--------+-----+----------+\n",
      "|identificador|    nome|idade|  nome_pet|\n",
      "+-------------+--------+-----+----------+\n",
      "|            1|   Roger|   45|   Oswaldo|\n",
      "|            2|Rayleigh|   41|          |\n",
      "|            3|  Shanks|   35|       Rex|\n",
      "|            4|  Olivia|   40|    Pipoca|\n",
      "|            5|   Robin|   23|       Mel|\n",
      "|            6|    Vivi|   20|     Karue|\n",
      "|            7|   Luffy|   22|          |\n",
      "|           10|   Teach|   32|Tungstenio|\n",
      "|           13|    Nami|   21|     Usopp|\n",
      "|           14|    Garp|   45|          |\n",
      "+-------------+--------+-----+----------+\n",
      "\n"
     ]
    }
   ],
   "source": [
    "uniao_final = union_df1.union(union_df2)\n",
    "uniao_final.show()"
   ]
  },
  {
   "cell_type": "code",
   "execution_count": 114,
   "id": "adjacent-backing",
   "metadata": {},
   "outputs": [
    {
     "name": "stdout",
     "output_type": "stream",
     "text": [
      "+-----------------+---------+---------+----------+------------+\n",
      "|identificador_pet|nome_dono|idade_pet|  nome_pet|        raca|\n",
      "+-----------------+---------+---------+----------+------------+\n",
      "|                1|    Roger|        5|   Oswaldo|      Maltes|\n",
      "|                2|    Teach|        4|Tungstenio|         SRD|\n",
      "|                3|   Shanks|        3|       Rex|     PitBull|\n",
      "|                4|   Olivia|        4|    Pipoca|Bull Terrier|\n",
      "|                5|    Robin|        3|       Mel|         SRD|\n",
      "|                6|     Vivi|        5|     Karue|   DashHound|\n",
      "|                7|     Nami|        7|     Usopp|   Terranova|\n",
      "+-----------------+---------+---------+----------+------------+\n",
      "\n"
     ]
    }
   ],
   "source": [
    "colunas_df3 = ['identificador_pet', 'nome_dono', 'idade_pet', 'nome_pet', 'raca']\n",
    "linhas_df3 = [(1, \"Roger\", 5, \"Oswaldo\",\"Maltes\"),\n",
    "              (2, \"Teach\", 4, \"Tungstenio\", \"SRD\"),\n",
    "              (3, \"Shanks\", 3, \"Rex\", \"PitBull\"),\n",
    "              (4, \"Olivia\", 4, \"Pipoca\", \"Bull Terrier\"),\n",
    "              (5, \"Robin\", 3, \"Mel\", \"SRD\"),\n",
    "              (6, \"Vivi\", 5, \"Karue\", \"DashHound\"),\n",
    "              (7, \"Nami\", 7, \"Usopp\", \"Terranova\")]\n",
    "\n",
    "join_df1 = spark.createDataFrame(linhas_df3, colunas_df3)\n",
    "\n",
    "join_df1.show()\n"
   ]
  },
  {
   "cell_type": "code",
   "execution_count": 115,
   "id": "initial-bobby",
   "metadata": {},
   "outputs": [
    {
     "name": "stdout",
     "output_type": "stream",
     "text": [
      "+-------------+--------+-----+----------+-----------------+---------+---------+----------+------------+\n",
      "|identificador|    nome|idade|  nome_pet|identificador_pet|nome_dono|idade_pet|  nome_pet|        raca|\n",
      "+-------------+--------+-----+----------+-----------------+---------+---------+----------+------------+\n",
      "|            1|   Roger|   45|   Oswaldo|                1|    Roger|        5|   Oswaldo|      Maltes|\n",
      "|            7|   Luffy|   22|          |             null|     null|     null|      null|        null|\n",
      "|            5|   Robin|   23|       Mel|                5|    Robin|        3|       Mel|         SRD|\n",
      "|           14|    Garp|   45|          |             null|     null|     null|      null|        null|\n",
      "|            6|    Vivi|   20|     Karue|                6|     Vivi|        5|     Karue|   DashHound|\n",
      "|            3|  Shanks|   35|       Rex|                3|   Shanks|        3|       Rex|     PitBull|\n",
      "|            2|Rayleigh|   41|          |             null|     null|     null|      null|        null|\n",
      "|            4|  Olivia|   40|    Pipoca|                4|   Olivia|        4|    Pipoca|Bull Terrier|\n",
      "|           13|    Nami|   21|     Usopp|                7|     Nami|        7|     Usopp|   Terranova|\n",
      "|           10|   Teach|   32|Tungstenio|                2|    Teach|        4|Tungstenio|         SRD|\n",
      "+-------------+--------+-----+----------+-----------------+---------+---------+----------+------------+\n",
      "\n"
     ]
    }
   ],
   "source": [
    "# left\n",
    "left_join = uniao_final.join(join_df1, uniao_final.nome ==join_df1.nome_dono, 'left')\n",
    "left_join.show()"
   ]
  },
  {
   "cell_type": "code",
   "execution_count": 116,
   "id": "vocational-sunrise",
   "metadata": {},
   "outputs": [
    {
     "name": "stdout",
     "output_type": "stream",
     "text": [
      "+-------------+------+-----+----------+-----------------+---------+---------+----------+------------+\n",
      "|identificador|  nome|idade|  nome_pet|identificador_pet|nome_dono|idade_pet|  nome_pet|        raca|\n",
      "+-------------+------+-----+----------+-----------------+---------+---------+----------+------------+\n",
      "|            1| Roger|   45|   Oswaldo|                1|    Roger|        5|   Oswaldo|      Maltes|\n",
      "|            5| Robin|   23|       Mel|                5|    Robin|        3|       Mel|         SRD|\n",
      "|            6|  Vivi|   20|     Karue|                6|     Vivi|        5|     Karue|   DashHound|\n",
      "|            3|Shanks|   35|       Rex|                3|   Shanks|        3|       Rex|     PitBull|\n",
      "|            4|Olivia|   40|    Pipoca|                4|   Olivia|        4|    Pipoca|Bull Terrier|\n",
      "|           13|  Nami|   21|     Usopp|                7|     Nami|        7|     Usopp|   Terranova|\n",
      "|           10| Teach|   32|Tungstenio|                2|    Teach|        4|Tungstenio|         SRD|\n",
      "+-------------+------+-----+----------+-----------------+---------+---------+----------+------------+\n",
      "\n"
     ]
    }
   ],
   "source": [
    "# right\n",
    "right_join = uniao_final.join(join_df1, uniao_final.nome ==join_df1.nome_dono, 'right')\n",
    "right_join.show()"
   ]
  },
  {
   "cell_type": "code",
   "execution_count": 118,
   "id": "protecting-image",
   "metadata": {},
   "outputs": [
    {
     "name": "stdout",
     "output_type": "stream",
     "text": [
      "+-------------+------+-----+----------+-----------------+---------+---------+----------+------------+\n",
      "|identificador|  nome|idade|  nome_pet|identificador_pet|nome_dono|idade_pet|  nome_pet|        raca|\n",
      "+-------------+------+-----+----------+-----------------+---------+---------+----------+------------+\n",
      "|            1| Roger|   45|   Oswaldo|                1|    Roger|        5|   Oswaldo|      Maltes|\n",
      "|            5| Robin|   23|       Mel|                5|    Robin|        3|       Mel|         SRD|\n",
      "|            6|  Vivi|   20|     Karue|                6|     Vivi|        5|     Karue|   DashHound|\n",
      "|            3|Shanks|   35|       Rex|                3|   Shanks|        3|       Rex|     PitBull|\n",
      "|            4|Olivia|   40|    Pipoca|                4|   Olivia|        4|    Pipoca|Bull Terrier|\n",
      "|           13|  Nami|   21|     Usopp|                7|     Nami|        7|     Usopp|   Terranova|\n",
      "|           10| Teach|   32|Tungstenio|                2|    Teach|        4|Tungstenio|         SRD|\n",
      "+-------------+------+-----+----------+-----------------+---------+---------+----------+------------+\n",
      "\n"
     ]
    }
   ],
   "source": [
    "# inner\n",
    "inner_join = uniao_final.join(join_df1, uniao_final.nome ==join_df1.nome_dono, 'inner')\n",
    "inner_join.show()"
   ]
  },
  {
   "cell_type": "code",
   "execution_count": 120,
   "id": "intensive-detector",
   "metadata": {},
   "outputs": [
    {
     "name": "stdout",
     "output_type": "stream",
     "text": [
      "+-------------+--------+-----+----------+-----------------+---------+---------+----------+------------+\n",
      "|identificador|    nome|idade|  nome_pet|identificador_pet|nome_dono|idade_pet|  nome_pet|        raca|\n",
      "+-------------+--------+-----+----------+-----------------+---------+---------+----------+------------+\n",
      "|            1|   Roger|   45|   Oswaldo|                1|    Roger|        5|   Oswaldo|      Maltes|\n",
      "|            7|   Luffy|   22|          |             null|     null|     null|      null|        null|\n",
      "|            5|   Robin|   23|       Mel|                5|    Robin|        3|       Mel|         SRD|\n",
      "|           14|    Garp|   45|          |             null|     null|     null|      null|        null|\n",
      "|            6|    Vivi|   20|     Karue|                6|     Vivi|        5|     Karue|   DashHound|\n",
      "|            3|  Shanks|   35|       Rex|                3|   Shanks|        3|       Rex|     PitBull|\n",
      "|            2|Rayleigh|   41|          |             null|     null|     null|      null|        null|\n",
      "|            4|  Olivia|   40|    Pipoca|                4|   Olivia|        4|    Pipoca|Bull Terrier|\n",
      "|           13|    Nami|   21|     Usopp|                7|     Nami|        7|     Usopp|   Terranova|\n",
      "|           10|   Teach|   32|Tungstenio|                2|    Teach|        4|Tungstenio|         SRD|\n",
      "+-------------+--------+-----+----------+-----------------+---------+---------+----------+------------+\n",
      "\n"
     ]
    }
   ],
   "source": [
    "# full\n",
    "full_join = uniao_final.join(join_df1, uniao_final.nome ==join_df1.nome_dono, 'full')\n",
    "full_join.show()"
   ]
  },
  {
   "cell_type": "code",
   "execution_count": 121,
   "id": "intellectual-constraint",
   "metadata": {},
   "outputs": [
    {
     "name": "stdout",
     "output_type": "stream",
     "text": [
      "+-------------+------+-----+----------+\n",
      "|identificador|  nome|idade|  nome_pet|\n",
      "+-------------+------+-----+----------+\n",
      "|            1| Roger|   45|   Oswaldo|\n",
      "|            5| Robin|   23|       Mel|\n",
      "|            6|  Vivi|   20|     Karue|\n",
      "|            3|Shanks|   35|       Rex|\n",
      "|            4|Olivia|   40|    Pipoca|\n",
      "|           13|  Nami|   21|     Usopp|\n",
      "|           10| Teach|   32|Tungstenio|\n",
      "+-------------+------+-----+----------+\n",
      "\n"
     ]
    }
   ],
   "source": [
    "# leftsemi\n",
    "leftsemi_join = uniao_final.join(join_df1, uniao_final.nome ==join_df1.nome_dono, 'leftsemi')\n",
    "leftsemi_join.show()"
   ]
  },
  {
   "cell_type": "code",
   "execution_count": 122,
   "id": "vanilla-general",
   "metadata": {},
   "outputs": [
    {
     "name": "stdout",
     "output_type": "stream",
     "text": [
      "+-------------+--------+-----+--------+\n",
      "|identificador|    nome|idade|nome_pet|\n",
      "+-------------+--------+-----+--------+\n",
      "|            2|Rayleigh|   41|        |\n",
      "|            7|   Luffy|   22|        |\n",
      "|           14|    Garp|   45|        |\n",
      "+-------------+--------+-----+--------+\n",
      "\n"
     ]
    }
   ],
   "source": [
    "# left_anti\n",
    "left_anti_join = uniao_final.join(join_df1, uniao_final.nome ==join_df1.nome_dono, 'left_anti')\n",
    "left_anti_join.show()"
   ]
  },
  {
   "cell_type": "code",
   "execution_count": 127,
   "id": "unable-nelson",
   "metadata": {},
   "outputs": [
    {
     "name": "stdout",
     "output_type": "stream",
     "text": [
      "+-------------+--------+-----+--------+-----------------+---------+---------+----------+------------+\n",
      "|identificador|    nome|idade|nome_pet|identificador_pet|nome_dono|idade_pet|  nome_pet|        raca|\n",
      "+-------------+--------+-----+--------+-----------------+---------+---------+----------+------------+\n",
      "|            1|   Roger|   45| Oswaldo|                1|    Roger|        5|   Oswaldo|      Maltes|\n",
      "|            1|   Roger|   45| Oswaldo|                2|    Teach|        4|Tungstenio|         SRD|\n",
      "|            1|   Roger|   45| Oswaldo|                3|   Shanks|        3|       Rex|     PitBull|\n",
      "|            1|   Roger|   45| Oswaldo|                4|   Olivia|        4|    Pipoca|Bull Terrier|\n",
      "|            1|   Roger|   45| Oswaldo|                5|    Robin|        3|       Mel|         SRD|\n",
      "|            1|   Roger|   45| Oswaldo|                6|     Vivi|        5|     Karue|   DashHound|\n",
      "|            1|   Roger|   45| Oswaldo|                7|     Nami|        7|     Usopp|   Terranova|\n",
      "|            2|Rayleigh|   41|        |                1|    Roger|        5|   Oswaldo|      Maltes|\n",
      "|            2|Rayleigh|   41|        |                2|    Teach|        4|Tungstenio|         SRD|\n",
      "|            2|Rayleigh|   41|        |                3|   Shanks|        3|       Rex|     PitBull|\n",
      "|            2|Rayleigh|   41|        |                4|   Olivia|        4|    Pipoca|Bull Terrier|\n",
      "|            2|Rayleigh|   41|        |                5|    Robin|        3|       Mel|         SRD|\n",
      "|            2|Rayleigh|   41|        |                6|     Vivi|        5|     Karue|   DashHound|\n",
      "|            2|Rayleigh|   41|        |                7|     Nami|        7|     Usopp|   Terranova|\n",
      "|            3|  Shanks|   35|     Rex|                1|    Roger|        5|   Oswaldo|      Maltes|\n",
      "|            3|  Shanks|   35|     Rex|                2|    Teach|        4|Tungstenio|         SRD|\n",
      "|            3|  Shanks|   35|     Rex|                3|   Shanks|        3|       Rex|     PitBull|\n",
      "|            3|  Shanks|   35|     Rex|                4|   Olivia|        4|    Pipoca|Bull Terrier|\n",
      "|            3|  Shanks|   35|     Rex|                5|    Robin|        3|       Mel|         SRD|\n",
      "|            3|  Shanks|   35|     Rex|                6|     Vivi|        5|     Karue|   DashHound|\n",
      "+-------------+--------+-----+--------+-----------------+---------+---------+----------+------------+\n",
      "only showing top 20 rows\n",
      "\n"
     ]
    }
   ],
   "source": [
    "# crossjoin\n",
    "crossjoin = uniao_final.crossJoin(join_df1)\n",
    "crossjoin.show()\n"
   ]
  },
  {
   "cell_type": "code",
   "execution_count": null,
   "id": "white-rwanda",
   "metadata": {},
   "outputs": [],
   "source": []
  }
 ],
 "metadata": {
  "kernelspec": {
   "display_name": "Python 3",
   "language": "python",
   "name": "python3"
  },
  "language_info": {
   "codemirror_mode": {
    "name": "ipython",
    "version": 3
   },
   "file_extension": ".py",
   "mimetype": "text/x-python",
   "name": "python",
   "nbconvert_exporter": "python",
   "pygments_lexer": "ipython3",
   "version": "3.8.5"
  }
 },
 "nbformat": 4,
 "nbformat_minor": 5
}
